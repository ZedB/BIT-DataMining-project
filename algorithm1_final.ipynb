{
 "cells": [
  {
   "cell_type": "code",
   "execution_count": 1,
   "metadata": {},
   "outputs": [
    {
     "name": "stderr",
     "output_type": "stream",
     "text": [
      "/Library/conda/anaconda3/envs/deeplearning/lib/python3.7/site-packages/lightgbm/__init__.py:48: UserWarning: Starting from version 2.2.1, the library file in distribution wheels for macOS is built by the Apple Clang (Xcode_8.3.3) compiler.\n",
      "This means that in case of installing LightGBM from PyPI via the ``pip install lightgbm`` command, you don't need to install the gcc compiler anymore.\n",
      "Instead of that, you need to install the OpenMP library, which is required for running LightGBM on the system with the Apple Clang compiler.\n",
      "You can install the OpenMP library by the following command: ``brew install libomp``.\n",
      "  \"You can install the OpenMP library by the following command: ``brew install libomp``.\", UserWarning)\n"
     ]
    }
   ],
   "source": [
    "import numpy as np\n",
    "import pandas as pd\n",
    "import seaborn as sns\n",
    "import lightgbm as lgb\n",
    "import matplotlib.pyplot as plt\n",
    "from sklearn.ensemble import GradientBoostingRegressor\n",
    "from sklearn.metrics import mean_squared_error, mean_absolute_error\n",
    "from sklearn.linear_model import LinearRegression, Ridge, LassoCV\n",
    "from sklearn.model_selection import train_test_split, GridSearchCV\n",
    "\n",
    "%matplotlib inline"
   ]
  },
  {
   "cell_type": "markdown",
   "metadata": {},
   "source": [
    "### 读取预处理好的数据："
   ]
  },
  {
   "cell_type": "code",
   "execution_count": 2,
   "metadata": {},
   "outputs": [
    {
     "name": "stdout",
     "output_type": "stream",
     "text": [
      "(149999, 37)\n",
      "(50000, 37)\n"
     ]
    }
   ],
   "source": [
    "train_data = pd.read_csv('data/train_data_v1.csv', sep=' ')\n",
    "test_data = pd.read_csv('data/test_data_v1.csv', sep=' ')\n",
    "print(train_data.shape)\n",
    "print(test_data.shape)"
   ]
  },
  {
   "cell_type": "markdown",
   "metadata": {},
   "source": [
    "### 查看训练数据："
   ]
  },
  {
   "cell_type": "code",
   "execution_count": 3,
   "metadata": {},
   "outputs": [
    {
     "data": {
      "text/html": [
       "<div>\n",
       "<style scoped>\n",
       "    .dataframe tbody tr th:only-of-type {\n",
       "        vertical-align: middle;\n",
       "    }\n",
       "\n",
       "    .dataframe tbody tr th {\n",
       "        vertical-align: top;\n",
       "    }\n",
       "\n",
       "    .dataframe thead th {\n",
       "        text-align: right;\n",
       "    }\n",
       "</style>\n",
       "<table border=\"1\" class=\"dataframe\">\n",
       "  <thead>\n",
       "    <tr style=\"text-align: right;\">\n",
       "      <th></th>\n",
       "      <th>SaleID</th>\n",
       "      <th>bodyType</th>\n",
       "      <th>brand</th>\n",
       "      <th>creatDate</th>\n",
       "      <th>fuelType</th>\n",
       "      <th>gearbox</th>\n",
       "      <th>kilometer</th>\n",
       "      <th>model</th>\n",
       "      <th>notRepairedDamage</th>\n",
       "      <th>power</th>\n",
       "      <th>...</th>\n",
       "      <th>v_9</th>\n",
       "      <th>name_count</th>\n",
       "      <th>regDates</th>\n",
       "      <th>creatDates</th>\n",
       "      <th>regDate_year</th>\n",
       "      <th>regDate_month</th>\n",
       "      <th>regDate_day</th>\n",
       "      <th>creatDate_year</th>\n",
       "      <th>creatDate_month</th>\n",
       "      <th>creatDate_day</th>\n",
       "    </tr>\n",
       "  </thead>\n",
       "  <tbody>\n",
       "    <tr>\n",
       "      <th>0</th>\n",
       "      <td>0</td>\n",
       "      <td>1.0</td>\n",
       "      <td>6</td>\n",
       "      <td>20160404</td>\n",
       "      <td>0.0</td>\n",
       "      <td>0.0</td>\n",
       "      <td>12.5</td>\n",
       "      <td>30.0</td>\n",
       "      <td>0.0</td>\n",
       "      <td>60</td>\n",
       "      <td>...</td>\n",
       "      <td>0.097462</td>\n",
       "      <td>108</td>\n",
       "      <td>2004-04-02</td>\n",
       "      <td>2016-04-04</td>\n",
       "      <td>2004</td>\n",
       "      <td>4</td>\n",
       "      <td>2</td>\n",
       "      <td>2016</td>\n",
       "      <td>4</td>\n",
       "      <td>4</td>\n",
       "    </tr>\n",
       "    <tr>\n",
       "      <th>1</th>\n",
       "      <td>1</td>\n",
       "      <td>2.0</td>\n",
       "      <td>1</td>\n",
       "      <td>20160309</td>\n",
       "      <td>0.0</td>\n",
       "      <td>0.0</td>\n",
       "      <td>15.0</td>\n",
       "      <td>40.0</td>\n",
       "      <td>0.0</td>\n",
       "      <td>0</td>\n",
       "      <td>...</td>\n",
       "      <td>0.020582</td>\n",
       "      <td>29</td>\n",
       "      <td>2003-03-01</td>\n",
       "      <td>2016-03-09</td>\n",
       "      <td>2003</td>\n",
       "      <td>3</td>\n",
       "      <td>1</td>\n",
       "      <td>2016</td>\n",
       "      <td>3</td>\n",
       "      <td>9</td>\n",
       "    </tr>\n",
       "    <tr>\n",
       "      <th>2</th>\n",
       "      <td>2</td>\n",
       "      <td>1.0</td>\n",
       "      <td>15</td>\n",
       "      <td>20160402</td>\n",
       "      <td>0.0</td>\n",
       "      <td>0.0</td>\n",
       "      <td>12.5</td>\n",
       "      <td>115.0</td>\n",
       "      <td>0.0</td>\n",
       "      <td>163</td>\n",
       "      <td>...</td>\n",
       "      <td>0.027075</td>\n",
       "      <td>3</td>\n",
       "      <td>2004-04-03</td>\n",
       "      <td>2016-04-02</td>\n",
       "      <td>2004</td>\n",
       "      <td>4</td>\n",
       "      <td>3</td>\n",
       "      <td>2016</td>\n",
       "      <td>4</td>\n",
       "      <td>2</td>\n",
       "    </tr>\n",
       "    <tr>\n",
       "      <th>3</th>\n",
       "      <td>3</td>\n",
       "      <td>0.0</td>\n",
       "      <td>10</td>\n",
       "      <td>20160312</td>\n",
       "      <td>0.0</td>\n",
       "      <td>1.0</td>\n",
       "      <td>15.0</td>\n",
       "      <td>109.0</td>\n",
       "      <td>0.0</td>\n",
       "      <td>193</td>\n",
       "      <td>...</td>\n",
       "      <td>0.000000</td>\n",
       "      <td>2</td>\n",
       "      <td>1996-09-08</td>\n",
       "      <td>2016-03-12</td>\n",
       "      <td>1996</td>\n",
       "      <td>9</td>\n",
       "      <td>8</td>\n",
       "      <td>2016</td>\n",
       "      <td>3</td>\n",
       "      <td>12</td>\n",
       "    </tr>\n",
       "    <tr>\n",
       "      <th>4</th>\n",
       "      <td>4</td>\n",
       "      <td>1.0</td>\n",
       "      <td>5</td>\n",
       "      <td>20160313</td>\n",
       "      <td>0.0</td>\n",
       "      <td>0.0</td>\n",
       "      <td>5.0</td>\n",
       "      <td>110.0</td>\n",
       "      <td>0.0</td>\n",
       "      <td>68</td>\n",
       "      <td>...</td>\n",
       "      <td>0.121534</td>\n",
       "      <td>1</td>\n",
       "      <td>2012-01-03</td>\n",
       "      <td>2016-03-13</td>\n",
       "      <td>2012</td>\n",
       "      <td>1</td>\n",
       "      <td>3</td>\n",
       "      <td>2016</td>\n",
       "      <td>3</td>\n",
       "      <td>13</td>\n",
       "    </tr>\n",
       "  </tbody>\n",
       "</table>\n",
       "<p>5 rows × 37 columns</p>\n",
       "</div>"
      ],
      "text/plain": [
       "   SaleID  bodyType  brand  creatDate  fuelType  gearbox  kilometer  model  \\\n",
       "0       0       1.0      6   20160404       0.0      0.0       12.5   30.0   \n",
       "1       1       2.0      1   20160309       0.0      0.0       15.0   40.0   \n",
       "2       2       1.0     15   20160402       0.0      0.0       12.5  115.0   \n",
       "3       3       0.0     10   20160312       0.0      1.0       15.0  109.0   \n",
       "4       4       1.0      5   20160313       0.0      0.0        5.0  110.0   \n",
       "\n",
       "   notRepairedDamage  power  ...       v_9  name_count    regDates  \\\n",
       "0                0.0     60  ...  0.097462         108  2004-04-02   \n",
       "1                0.0      0  ...  0.020582          29  2003-03-01   \n",
       "2                0.0    163  ...  0.027075           3  2004-04-03   \n",
       "3                0.0    193  ...  0.000000           2  1996-09-08   \n",
       "4                0.0     68  ...  0.121534           1  2012-01-03   \n",
       "\n",
       "   creatDates  regDate_year  regDate_month  regDate_day  creatDate_year  \\\n",
       "0  2016-04-04          2004              4            2            2016   \n",
       "1  2016-03-09          2003              3            1            2016   \n",
       "2  2016-04-02          2004              4            3            2016   \n",
       "3  2016-03-12          1996              9            8            2016   \n",
       "4  2016-03-13          2012              1            3            2016   \n",
       "\n",
       "   creatDate_month  creatDate_day  \n",
       "0                4              4  \n",
       "1                3              9  \n",
       "2                4              2  \n",
       "3                3             12  \n",
       "4                3             13  \n",
       "\n",
       "[5 rows x 37 columns]"
      ]
     },
     "execution_count": 3,
     "metadata": {},
     "output_type": "execute_result"
    }
   ],
   "source": [
    "train_data.head()"
   ]
  },
  {
   "cell_type": "markdown",
   "metadata": {},
   "source": [
    "### 查看数据的统计信息："
   ]
  },
  {
   "cell_type": "code",
   "execution_count": 4,
   "metadata": {},
   "outputs": [
    {
     "data": {
      "text/html": [
       "<div>\n",
       "<style scoped>\n",
       "    .dataframe tbody tr th:only-of-type {\n",
       "        vertical-align: middle;\n",
       "    }\n",
       "\n",
       "    .dataframe tbody tr th {\n",
       "        vertical-align: top;\n",
       "    }\n",
       "\n",
       "    .dataframe thead th {\n",
       "        text-align: right;\n",
       "    }\n",
       "</style>\n",
       "<table border=\"1\" class=\"dataframe\">\n",
       "  <thead>\n",
       "    <tr style=\"text-align: right;\">\n",
       "      <th></th>\n",
       "      <th>SaleID</th>\n",
       "      <th>bodyType</th>\n",
       "      <th>brand</th>\n",
       "      <th>creatDate</th>\n",
       "      <th>fuelType</th>\n",
       "      <th>gearbox</th>\n",
       "      <th>kilometer</th>\n",
       "      <th>model</th>\n",
       "      <th>notRepairedDamage</th>\n",
       "      <th>power</th>\n",
       "      <th>...</th>\n",
       "      <th>v_7</th>\n",
       "      <th>v_8</th>\n",
       "      <th>v_9</th>\n",
       "      <th>name_count</th>\n",
       "      <th>regDate_year</th>\n",
       "      <th>regDate_month</th>\n",
       "      <th>regDate_day</th>\n",
       "      <th>creatDate_year</th>\n",
       "      <th>creatDate_month</th>\n",
       "      <th>creatDate_day</th>\n",
       "    </tr>\n",
       "  </thead>\n",
       "  <tbody>\n",
       "    <tr>\n",
       "      <th>count</th>\n",
       "      <td>149999.000000</td>\n",
       "      <td>149999.000000</td>\n",
       "      <td>149999.000000</td>\n",
       "      <td>1.499990e+05</td>\n",
       "      <td>149999.000000</td>\n",
       "      <td>149999.000000</td>\n",
       "      <td>149999.000000</td>\n",
       "      <td>149999.000000</td>\n",
       "      <td>149999.000000</td>\n",
       "      <td>149999.000000</td>\n",
       "      <td>...</td>\n",
       "      <td>149999.000000</td>\n",
       "      <td>149999.000000</td>\n",
       "      <td>149999.000000</td>\n",
       "      <td>149999.000000</td>\n",
       "      <td>149999.000000</td>\n",
       "      <td>149999.000000</td>\n",
       "      <td>149999.000000</td>\n",
       "      <td>149999.000000</td>\n",
       "      <td>149999.000000</td>\n",
       "      <td>149999.000000</td>\n",
       "    </tr>\n",
       "    <tr>\n",
       "      <th>mean</th>\n",
       "      <td>74999.493837</td>\n",
       "      <td>1.738525</td>\n",
       "      <td>8.052727</td>\n",
       "      <td>2.016033e+07</td>\n",
       "      <td>0.354096</td>\n",
       "      <td>0.215975</td>\n",
       "      <td>12.597144</td>\n",
       "      <td>47.128581</td>\n",
       "      <td>0.095434</td>\n",
       "      <td>116.861752</td>\n",
       "      <td>...</td>\n",
       "      <td>0.124693</td>\n",
       "      <td>0.058144</td>\n",
       "      <td>0.061995</td>\n",
       "      <td>16.621251</td>\n",
       "      <td>2003.357196</td>\n",
       "      <td>5.998393</td>\n",
       "      <td>6.502863</td>\n",
       "      <td>2015.999880</td>\n",
       "      <td>3.161581</td>\n",
       "      <td>15.833826</td>\n",
       "    </tr>\n",
       "    <tr>\n",
       "      <th>std</th>\n",
       "      <td>43301.558800</td>\n",
       "      <td>1.760784</td>\n",
       "      <td>7.864982</td>\n",
       "      <td>1.067332e+02</td>\n",
       "      <td>0.539748</td>\n",
       "      <td>0.411498</td>\n",
       "      <td>3.919584</td>\n",
       "      <td>49.536165</td>\n",
       "      <td>0.293814</td>\n",
       "      <td>70.074840</td>\n",
       "      <td>...</td>\n",
       "      <td>0.201410</td>\n",
       "      <td>0.029185</td>\n",
       "      <td>0.035692</td>\n",
       "      <td>48.697958</td>\n",
       "      <td>5.362246</td>\n",
       "      <td>3.521590</td>\n",
       "      <td>3.450316</td>\n",
       "      <td>0.010954</td>\n",
       "      <td>0.380710</td>\n",
       "      <td>9.132285</td>\n",
       "    </tr>\n",
       "    <tr>\n",
       "      <th>min</th>\n",
       "      <td>0.000000</td>\n",
       "      <td>0.000000</td>\n",
       "      <td>0.000000</td>\n",
       "      <td>2.015062e+07</td>\n",
       "      <td>0.000000</td>\n",
       "      <td>0.000000</td>\n",
       "      <td>0.500000</td>\n",
       "      <td>0.000000</td>\n",
       "      <td>0.000000</td>\n",
       "      <td>0.000000</td>\n",
       "      <td>...</td>\n",
       "      <td>0.000000</td>\n",
       "      <td>0.000000</td>\n",
       "      <td>0.000000</td>\n",
       "      <td>1.000000</td>\n",
       "      <td>1991.000000</td>\n",
       "      <td>1.000000</td>\n",
       "      <td>1.000000</td>\n",
       "      <td>2015.000000</td>\n",
       "      <td>1.000000</td>\n",
       "      <td>1.000000</td>\n",
       "    </tr>\n",
       "    <tr>\n",
       "      <th>25%</th>\n",
       "      <td>37499.500000</td>\n",
       "      <td>0.000000</td>\n",
       "      <td>1.000000</td>\n",
       "      <td>2.016031e+07</td>\n",
       "      <td>0.000000</td>\n",
       "      <td>0.000000</td>\n",
       "      <td>12.500000</td>\n",
       "      <td>10.000000</td>\n",
       "      <td>0.000000</td>\n",
       "      <td>75.000000</td>\n",
       "      <td>...</td>\n",
       "      <td>0.062474</td>\n",
       "      <td>0.035334</td>\n",
       "      <td>0.033930</td>\n",
       "      <td>1.000000</td>\n",
       "      <td>1999.000000</td>\n",
       "      <td>3.000000</td>\n",
       "      <td>4.000000</td>\n",
       "      <td>2016.000000</td>\n",
       "      <td>3.000000</td>\n",
       "      <td>8.000000</td>\n",
       "    </tr>\n",
       "    <tr>\n",
       "      <th>50%</th>\n",
       "      <td>74999.000000</td>\n",
       "      <td>1.000000</td>\n",
       "      <td>6.000000</td>\n",
       "      <td>2.016032e+07</td>\n",
       "      <td>0.000000</td>\n",
       "      <td>0.000000</td>\n",
       "      <td>15.000000</td>\n",
       "      <td>30.000000</td>\n",
       "      <td>0.000000</td>\n",
       "      <td>110.000000</td>\n",
       "      <td>...</td>\n",
       "      <td>0.095867</td>\n",
       "      <td>0.057014</td>\n",
       "      <td>0.058483</td>\n",
       "      <td>1.000000</td>\n",
       "      <td>2003.000000</td>\n",
       "      <td>6.000000</td>\n",
       "      <td>7.000000</td>\n",
       "      <td>2016.000000</td>\n",
       "      <td>3.000000</td>\n",
       "      <td>16.000000</td>\n",
       "    </tr>\n",
       "    <tr>\n",
       "      <th>75%</th>\n",
       "      <td>112499.500000</td>\n",
       "      <td>3.000000</td>\n",
       "      <td>13.000000</td>\n",
       "      <td>2.016033e+07</td>\n",
       "      <td>1.000000</td>\n",
       "      <td>0.000000</td>\n",
       "      <td>15.000000</td>\n",
       "      <td>66.000000</td>\n",
       "      <td>0.000000</td>\n",
       "      <td>150.000000</td>\n",
       "      <td>...</td>\n",
       "      <td>0.125243</td>\n",
       "      <td>0.079382</td>\n",
       "      <td>0.087489</td>\n",
       "      <td>7.000000</td>\n",
       "      <td>2007.000000</td>\n",
       "      <td>9.000000</td>\n",
       "      <td>9.000000</td>\n",
       "      <td>2016.000000</td>\n",
       "      <td>3.000000</td>\n",
       "      <td>24.000000</td>\n",
       "    </tr>\n",
       "    <tr>\n",
       "      <th>max</th>\n",
       "      <td>149999.000000</td>\n",
       "      <td>7.000000</td>\n",
       "      <td>39.000000</td>\n",
       "      <td>2.016041e+07</td>\n",
       "      <td>6.000000</td>\n",
       "      <td>1.000000</td>\n",
       "      <td>15.000000</td>\n",
       "      <td>247.000000</td>\n",
       "      <td>1.000000</td>\n",
       "      <td>600.000000</td>\n",
       "      <td>...</td>\n",
       "      <td>1.404936</td>\n",
       "      <td>0.160791</td>\n",
       "      <td>0.222787</td>\n",
       "      <td>376.000000</td>\n",
       "      <td>2015.000000</td>\n",
       "      <td>12.000000</td>\n",
       "      <td>12.000000</td>\n",
       "      <td>2016.000000</td>\n",
       "      <td>12.000000</td>\n",
       "      <td>31.000000</td>\n",
       "    </tr>\n",
       "  </tbody>\n",
       "</table>\n",
       "<p>8 rows × 35 columns</p>\n",
       "</div>"
      ],
      "text/plain": [
       "              SaleID       bodyType          brand     creatDate  \\\n",
       "count  149999.000000  149999.000000  149999.000000  1.499990e+05   \n",
       "mean    74999.493837       1.738525       8.052727  2.016033e+07   \n",
       "std     43301.558800       1.760784       7.864982  1.067332e+02   \n",
       "min         0.000000       0.000000       0.000000  2.015062e+07   \n",
       "25%     37499.500000       0.000000       1.000000  2.016031e+07   \n",
       "50%     74999.000000       1.000000       6.000000  2.016032e+07   \n",
       "75%    112499.500000       3.000000      13.000000  2.016033e+07   \n",
       "max    149999.000000       7.000000      39.000000  2.016041e+07   \n",
       "\n",
       "            fuelType        gearbox      kilometer          model  \\\n",
       "count  149999.000000  149999.000000  149999.000000  149999.000000   \n",
       "mean        0.354096       0.215975      12.597144      47.128581   \n",
       "std         0.539748       0.411498       3.919584      49.536165   \n",
       "min         0.000000       0.000000       0.500000       0.000000   \n",
       "25%         0.000000       0.000000      12.500000      10.000000   \n",
       "50%         0.000000       0.000000      15.000000      30.000000   \n",
       "75%         1.000000       0.000000      15.000000      66.000000   \n",
       "max         6.000000       1.000000      15.000000     247.000000   \n",
       "\n",
       "       notRepairedDamage          power  ...            v_7            v_8  \\\n",
       "count      149999.000000  149999.000000  ...  149999.000000  149999.000000   \n",
       "mean            0.095434     116.861752  ...       0.124693       0.058144   \n",
       "std             0.293814      70.074840  ...       0.201410       0.029185   \n",
       "min             0.000000       0.000000  ...       0.000000       0.000000   \n",
       "25%             0.000000      75.000000  ...       0.062474       0.035334   \n",
       "50%             0.000000     110.000000  ...       0.095867       0.057014   \n",
       "75%             0.000000     150.000000  ...       0.125243       0.079382   \n",
       "max             1.000000     600.000000  ...       1.404936       0.160791   \n",
       "\n",
       "                 v_9     name_count   regDate_year  regDate_month  \\\n",
       "count  149999.000000  149999.000000  149999.000000  149999.000000   \n",
       "mean        0.061995      16.621251    2003.357196       5.998393   \n",
       "std         0.035692      48.697958       5.362246       3.521590   \n",
       "min         0.000000       1.000000    1991.000000       1.000000   \n",
       "25%         0.033930       1.000000    1999.000000       3.000000   \n",
       "50%         0.058483       1.000000    2003.000000       6.000000   \n",
       "75%         0.087489       7.000000    2007.000000       9.000000   \n",
       "max         0.222787     376.000000    2015.000000      12.000000   \n",
       "\n",
       "         regDate_day  creatDate_year  creatDate_month  creatDate_day  \n",
       "count  149999.000000   149999.000000    149999.000000  149999.000000  \n",
       "mean        6.502863     2015.999880         3.161581      15.833826  \n",
       "std         3.450316        0.010954         0.380710       9.132285  \n",
       "min         1.000000     2015.000000         1.000000       1.000000  \n",
       "25%         4.000000     2016.000000         3.000000       8.000000  \n",
       "50%         7.000000     2016.000000         3.000000      16.000000  \n",
       "75%         9.000000     2016.000000         3.000000      24.000000  \n",
       "max        12.000000     2016.000000        12.000000      31.000000  \n",
       "\n",
       "[8 rows x 35 columns]"
      ]
     },
     "execution_count": 4,
     "metadata": {},
     "output_type": "execute_result"
    }
   ],
   "source": [
    "train_data.describe()"
   ]
  },
  {
   "cell_type": "markdown",
   "metadata": {},
   "source": [
    "### 提取所需特征列："
   ]
  },
  {
   "cell_type": "code",
   "execution_count": 5,
   "metadata": {},
   "outputs": [
    {
     "name": "stdout",
     "output_type": "stream",
     "text": [
      "Index(['SaleID', 'bodyType', 'brand', 'creatDate', 'fuelType', 'gearbox',\n",
      "       'kilometer', 'model', 'notRepairedDamage', 'power', 'price', 'regDate',\n",
      "       'regionCode', 'v_0', 'v_1', 'v_10', 'v_11', 'v_12', 'v_13', 'v_14',\n",
      "       'v_2', 'v_3', 'v_4', 'v_5', 'v_6', 'v_7', 'v_8', 'v_9', 'name_count',\n",
      "       'regDate_year', 'regDate_month', 'regDate_day', 'creatDate_year',\n",
      "       'creatDate_month', 'creatDate_day'],\n",
      "      dtype='object')\n"
     ]
    }
   ],
   "source": [
    "numerical_cols = train_data.select_dtypes(exclude = 'object').columns\n",
    "print(numerical_cols)"
   ]
  },
  {
   "cell_type": "code",
   "execution_count": 6,
   "metadata": {},
   "outputs": [],
   "source": [
    "feature_cols = [x for x in train_data.columns if x not in ['SaleID','name','regDates','creatDates','price','model','brand','regionCode','creatDate']]"
   ]
  },
  {
   "cell_type": "markdown",
   "metadata": {},
   "source": [
    "### 构建数据集并进行划分（Train, Val）："
   ]
  },
  {
   "cell_type": "code",
   "execution_count": 7,
   "metadata": {},
   "outputs": [],
   "source": [
    "train_X = train_data[feature_cols]\n",
    "test_X = test_data[feature_cols]\n",
    "train_Y = train_data['price']"
   ]
  },
  {
   "cell_type": "code",
   "execution_count": 8,
   "metadata": {},
   "outputs": [
    {
     "name": "stdout",
     "output_type": "stream",
     "text": [
      "X train shape: (149999, 29)\n",
      "X test shape: (50000, 29)\n",
      "Y train shape: (149999,)\n"
     ]
    }
   ],
   "source": [
    "print('X train shape:',train_X.shape)\n",
    "print('X test shape:',test_X.shape)\n",
    "print('Y train shape:',train_Y.shape)"
   ]
  },
  {
   "cell_type": "code",
   "execution_count": 9,
   "metadata": {},
   "outputs": [],
   "source": [
    "x_train, x_val, y_train, y_val = train_test_split(train_X, train_Y, test_size=0.3)"
   ]
  },
  {
   "cell_type": "markdown",
   "metadata": {},
   "source": []
  },
  {
   "cell_type": "markdown",
   "metadata": {},
   "source": [
    "### 通过五种模型进行训练，并用MAE评价标准进行比较："
   ]
  },
  {
   "cell_type": "code",
   "execution_count": 10,
   "metadata": {},
   "outputs": [
    {
     "name": "stdout",
     "output_type": "stream",
     "text": [
      "MAE =  0.19394101366403463\n"
     ]
    }
   ],
   "source": [
    "# 线性回归\n",
    "model_1 = LinearRegression()\n",
    "model_1.fit(x_train, y_train)\n",
    "pred_1 = model_1.predict(x_val)\n",
    "mae_1 = mean_absolute_error(y_val, pred_1)\n",
    "print('MAE = ', mae_1)"
   ]
  },
  {
   "cell_type": "code",
   "execution_count": 11,
   "metadata": {},
   "outputs": [
    {
     "name": "stdout",
     "output_type": "stream",
     "text": [
      "MAE =  0.1972789542194812\n"
     ]
    }
   ],
   "source": [
    "# 岭回归\n",
    "model_2 = Ridge(alpha=0.8)\n",
    "model_2.fit(x_train, y_train)\n",
    "pred_2 = model_2.predict(x_val)\n",
    "mae_2 = mean_absolute_error(y_val, pred_2)\n",
    "print('MAE = ', mae_2)"
   ]
  },
  {
   "cell_type": "code",
   "execution_count": 12,
   "metadata": {},
   "outputs": [
    {
     "name": "stdout",
     "output_type": "stream",
     "text": [
      "MAE =  0.6046481117934874\n"
     ]
    }
   ],
   "source": [
    "# Lasso回归\n",
    "model_3 = LassoCV()\n",
    "model_3.fit(x_train, y_train)\n",
    "pred_3 = model_3.predict(x_val)\n",
    "mae_3 = mean_absolute_error(y_val, pred_3)\n",
    "print('MAE = ', mae_3)"
   ]
  },
  {
   "cell_type": "code",
   "execution_count": 13,
   "metadata": {},
   "outputs": [
    {
     "name": "stdout",
     "output_type": "stream",
     "text": [
      "MAE =  0.17866209854560852\n"
     ]
    }
   ],
   "source": [
    "# GDBT\n",
    "gdbt = GradientBoostingRegressor()\n",
    "gdbt.fit(x_train, y_train)\n",
    "pred_4 = gdbt.predict(x_val)\n",
    "mae_4 = mean_absolute_error(y_val, pred_4)\n",
    "print('MAE = ', mae_4)"
   ]
  },
  {
   "cell_type": "code",
   "execution_count": 14,
   "metadata": {},
   "outputs": [
    {
     "name": "stdout",
     "output_type": "stream",
     "text": [
      "MAE =  0.13801210531454872\n"
     ]
    }
   ],
   "source": [
    "# LightGBM\n",
    "estimator = lgb.LGBMRegressor(num_leaves=63, n_estimators=100)\n",
    "param_grid = {\n",
    "    'learning_rate': [0.01, 0.05, 0.1],\n",
    "    }\n",
    "gbm = GridSearchCV(estimator, param_grid)\n",
    "gbm.fit(x_train, y_train)\n",
    "pred_5 = gbm.predict(x_val)\n",
    "mae_5 = mean_absolute_error(y_val, pred_5)\n",
    "print('MAE = ', mae_5)"
   ]
  },
  {
   "cell_type": "markdown",
   "metadata": {},
   "source": [
    "##### 通过对比可知，LightGBM训练得到的模型效果更好，故我们采用LightGBM训练模型并进行预测。"
   ]
  },
  {
   "cell_type": "markdown",
   "metadata": {},
   "source": [
    "### 采用LightGBM模型在原始数据集上进行预测："
   ]
  },
  {
   "cell_type": "code",
   "execution_count": 15,
   "metadata": {},
   "outputs": [],
   "source": [
    "estimator = lgb.LGBMRegressor(num_leaves=63, n_estimators=100)\n",
    "param_grid = {\n",
    "    'learning_rate': [0.01, 0.05, 0.1],\n",
    "    }\n",
    "pred_model = GridSearchCV(estimator, param_grid)\n",
    "pred_model.fit(train_X, train_Y)\n",
    "price = pred_model.predict(test_X)"
   ]
  },
  {
   "cell_type": "markdown",
   "metadata": {},
   "source": [
    "### 将预测值生成指定格式的csv文件："
   ]
  },
  {
   "cell_type": "code",
   "execution_count": 16,
   "metadata": {},
   "outputs": [],
   "source": [
    "submit = pd.DataFrame()\n",
    "submit['SaleID'] = test_data.SaleID\n",
    "submit['price'] = price\n",
    "submit.to_csv('output/submit.csv',index=False)"
   ]
  },
  {
   "cell_type": "code",
   "execution_count": 17,
   "metadata": {},
   "outputs": [
    {
     "data": {
      "text/html": [
       "<div>\n",
       "<style scoped>\n",
       "    .dataframe tbody tr th:only-of-type {\n",
       "        vertical-align: middle;\n",
       "    }\n",
       "\n",
       "    .dataframe tbody tr th {\n",
       "        vertical-align: top;\n",
       "    }\n",
       "\n",
       "    .dataframe thead th {\n",
       "        text-align: right;\n",
       "    }\n",
       "</style>\n",
       "<table border=\"1\" class=\"dataframe\">\n",
       "  <thead>\n",
       "    <tr style=\"text-align: right;\">\n",
       "      <th></th>\n",
       "      <th>SaleID</th>\n",
       "      <th>price</th>\n",
       "    </tr>\n",
       "  </thead>\n",
       "  <tbody>\n",
       "    <tr>\n",
       "      <th>0</th>\n",
       "      <td>200000</td>\n",
       "      <td>7.146314</td>\n",
       "    </tr>\n",
       "    <tr>\n",
       "      <th>1</th>\n",
       "      <td>200001</td>\n",
       "      <td>7.548770</td>\n",
       "    </tr>\n",
       "    <tr>\n",
       "      <th>2</th>\n",
       "      <td>200002</td>\n",
       "      <td>8.888396</td>\n",
       "    </tr>\n",
       "    <tr>\n",
       "      <th>3</th>\n",
       "      <td>200003</td>\n",
       "      <td>7.084090</td>\n",
       "    </tr>\n",
       "    <tr>\n",
       "      <th>4</th>\n",
       "      <td>200004</td>\n",
       "      <td>7.582857</td>\n",
       "    </tr>\n",
       "    <tr>\n",
       "      <th>5</th>\n",
       "      <td>200005</td>\n",
       "      <td>7.127663</td>\n",
       "    </tr>\n",
       "    <tr>\n",
       "      <th>6</th>\n",
       "      <td>200006</td>\n",
       "      <td>5.990862</td>\n",
       "    </tr>\n",
       "    <tr>\n",
       "      <th>7</th>\n",
       "      <td>200007</td>\n",
       "      <td>8.110016</td>\n",
       "    </tr>\n",
       "    <tr>\n",
       "      <th>8</th>\n",
       "      <td>200008</td>\n",
       "      <td>9.461447</td>\n",
       "    </tr>\n",
       "    <tr>\n",
       "      <th>9</th>\n",
       "      <td>200009</td>\n",
       "      <td>6.423404</td>\n",
       "    </tr>\n",
       "  </tbody>\n",
       "</table>\n",
       "</div>"
      ],
      "text/plain": [
       "   SaleID     price\n",
       "0  200000  7.146314\n",
       "1  200001  7.548770\n",
       "2  200002  8.888396\n",
       "3  200003  7.084090\n",
       "4  200004  7.582857\n",
       "5  200005  7.127663\n",
       "6  200006  5.990862\n",
       "7  200007  8.110016\n",
       "8  200008  9.461447\n",
       "9  200009  6.423404"
      ]
     },
     "execution_count": 17,
     "metadata": {},
     "output_type": "execute_result"
    }
   ],
   "source": [
    "submit.head(10)"
   ]
  },
  {
   "cell_type": "code",
   "execution_count": null,
   "metadata": {},
   "outputs": [],
   "source": []
  }
 ],
 "metadata": {
  "kernelspec": {
   "display_name": "Pytorch for Deeplearning",
   "language": "python",
   "name": "pytorch"
  },
  "language_info": {
   "codemirror_mode": {
    "name": "ipython",
    "version": 3
   },
   "file_extension": ".py",
   "mimetype": "text/x-python",
   "name": "python",
   "nbconvert_exporter": "python",
   "pygments_lexer": "ipython3",
   "version": "3.7.3"
  }
 },
 "nbformat": 4,
 "nbformat_minor": 2
}
